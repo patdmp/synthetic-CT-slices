{
 "cells": [
  {
   "cell_type": "code",
   "execution_count": 2,
   "id": "ecfb9032",
   "metadata": {},
   "outputs": [],
   "source": [
    "import nrrd \n",
    "import numpy as np"
   ]
  },
  {
   "cell_type": "code",
   "execution_count": 3,
   "id": "b538423b",
   "metadata": {},
   "outputs": [
    {
     "name": "stdout",
     "output_type": "stream",
     "text": [
      "Data shape: (512, 512, 1064)\n",
      "Max value: 4095\n",
      "Min value: -2000\n",
      "Data shape: (512, 512, 1126)\n",
      "Max value: 4095\n",
      "Min value: -2000\n"
     ]
    }
   ],
   "source": [
    "datafolder = 'data_AVT/AVT'\n",
    "cohort = 'Rider'\n",
    "\n",
    "for i in range(1,3):\n",
    "    subject = f'R{i}'\n",
    "    filename = f'../{datafolder}/{cohort}/{subject}/{subject}.nrrd'\n",
    "    data, header = nrrd.read(filename)\n",
    "\n",
    "    print(f\"Data shape: {data.shape}\")\n",
    "    # print(f\"Header: {header}\")\n",
    "\n",
    "    print(f\"Max value: {np.max(data)}\")\n",
    "    print(f\"Min value: {np.min(data)}\")"
   ]
  },
  {
   "cell_type": "code",
   "execution_count": 4,
   "id": "f5d0245d",
   "metadata": {},
   "outputs": [
    {
     "name": "stdout",
     "output_type": "stream",
     "text": [
      "Number of segmentation classes: [0 1]\n"
     ]
    }
   ],
   "source": [
    "datafolder = 'data_AVT/AVT'\n",
    "cohort = 'Rider'\n",
    "\n",
    "for i in [18]:\n",
    "    subject = f'R{i}'\n",
    "    filename = f'../{datafolder}/{cohort}/{subject}/{subject}.seg.nrrd'\n",
    "    data, header = nrrd.read(filename)\n",
    "\n",
    "    print(f\"Number of segmentation classes:\", np.unique(data))"
   ]
  },
  {
   "cell_type": "code",
   "execution_count": 6,
   "id": "8fd96205",
   "metadata": {},
   "outputs": [
    {
     "name": "stdout",
     "output_type": "stream",
     "text": [
      "1\n",
      "0 NVIDIA GeForce RTX 4090 Laptop GPU\n"
     ]
    }
   ],
   "source": [
    "import torch\n",
    "print(torch.cuda.device_count())\n",
    "for i in range(torch.cuda.device_count()):\n",
    "    print(i, torch.cuda.get_device_name(i))\n"
   ]
  },
  {
   "cell_type": "code",
   "execution_count": 7,
   "id": "7f19fa23",
   "metadata": {},
   "outputs": [
    {
     "name": "stdout",
     "output_type": "stream",
     "text": [
      "Running on cuda\n"
     ]
    }
   ],
   "source": [
    "device = torch.device(\"cuda\" if torch.cuda.is_available() else \"cpu\")\n",
    "print(f\"Running on {device}\")"
   ]
  },
  {
   "cell_type": "code",
   "execution_count": null,
   "id": "4c5152eb",
   "metadata": {},
   "outputs": [
    {
     "name": "stdout",
     "output_type": "stream",
     "text": [
      "\n",
      "Cohort: Dongyang\n",
      "all files share orientation RAS  (n=36)\n",
      "\n",
      "Cohort: KiTS\n",
      "all files share orientation RAS  (n=40)\n",
      "\n",
      "Cohort: Rider\n",
      "all files share orientation RAS  (n=36)\n"
     ]
    }
   ],
   "source": [
    "# import os\n",
    "# from pathlib import Path\n",
    "# from collections import defaultdict\n",
    "\n",
    "# def dircos_to_orientation(matrix):\n",
    "#     \"\"\"\n",
    "#     matrix: 3x3 numpy array where columns are direction cosines of x,y,z axes\n",
    "#     Returns a 3-letter code, e.g. \"RAI\".\n",
    "#     \"\"\"\n",
    "#     ax_codes = []\n",
    "#     labels = np.array([['R', 'L'],   # X axis  +R / -L\n",
    "#                        ['A', 'P'],   # Y axis  +A / -P\n",
    "#                        ['S', 'I']])  # Z axis  +S / -I\n",
    "#     for i in range(3):      # X, Y, Z columns\n",
    "#         col = matrix[:, i]\n",
    "#         # choose the axis with the largest absolute component\n",
    "#         major_axis = np.argmax(np.abs(col))\n",
    "#         sign = 0 if col[major_axis] >= 0 else 1\n",
    "#         ax_codes.append(labels[major_axis, sign])\n",
    "#     return ''.join(ax_codes)\n",
    "\n",
    "# def scan_nrrd_orientation(root_dirs):\n",
    "#     \"\"\"Return dict: {cohort: {orientation_code: [file1, file2, ...]}}\"\"\"\n",
    "#     summary = defaultdict(lambda: defaultdict(list))\n",
    "#     for cohort_dir in root_dirs:\n",
    "#         cohort = Path(cohort_dir).name\n",
    "#         for f in Path(cohort_dir).rglob('*.nrrd'):\n",
    "#             data, hdr = nrrd.read(str(f), index_order='F')  # data ignored\n",
    "#             # parse space directions → 3×3 direction cosine matrix\n",
    "#             dirs = hdr['space directions']                  # list of 3 tuples\n",
    "#             dirs = np.array(dirs, dtype=float)              # shape (3,3)\n",
    "#             # normalise to unit vectors (strip voxel spacing)\n",
    "#             dircos = dirs / np.linalg.norm(dirs, axis=0)\n",
    "#             code = dircos_to_orientation(dircos)\n",
    "#             summary[cohort][code].append(str(f))\n",
    "#     return summary\n",
    "\n",
    "# # ----  edit these paths to your actual folders  ----\n",
    "# cohort_roots = [\n",
    "#     '../data_AVT/AVT/Dongyang',\n",
    "#     '../data_AVT/AVT/KiTS',\n",
    "#     '../data_AVT/AVT/Rider'\n",
    "# ]\n",
    "\n",
    "# report = scan_nrrd_orientation(cohort_roots)\n",
    "\n",
    "# # pretty print\n",
    "# for cohort, codes in report.items():\n",
    "#     print(f'\\nCohort: {cohort}')\n",
    "#     if len(codes) == 1:\n",
    "#         code = next(iter(codes))\n",
    "#         print(f'all files share orientation {code}  (n={len(codes[code])})')\n",
    "#     else:\n",
    "#         print('mixed orientations detected:')\n",
    "#         for code, files in codes.items():\n",
    "#             print(f'    {code}: {len(files)} file(s)')\n"
   ]
  }
 ],
 "metadata": {
  "kernelspec": {
   "display_name": ".venv",
   "language": "python",
   "name": "python3"
  },
  "language_info": {
   "codemirror_mode": {
    "name": "ipython",
    "version": 3
   },
   "file_extension": ".py",
   "mimetype": "text/x-python",
   "name": "python",
   "nbconvert_exporter": "python",
   "pygments_lexer": "ipython3",
   "version": "3.9.0"
  }
 },
 "nbformat": 4,
 "nbformat_minor": 5
}
